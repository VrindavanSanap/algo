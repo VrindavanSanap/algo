{
 "cells": [
  {
   "cell_type": "code",
   "execution_count": 1,
   "metadata": {},
   "outputs": [],
   "source": [
    "grid = [[0, 0, 0], [0, 0, 0], [0, 0, 0]]"
   ]
  },
  {
   "cell_type": "code",
   "execution_count": 2,
   "metadata": {},
   "outputs": [],
   "source": [
    "import numpy as np"
   ]
  },
  {
   "cell_type": "code",
   "execution_count": 4,
   "metadata": {},
   "outputs": [],
   "source": [
    "def is_leaf_node(grid):\n",
    "  for i in range(3):\n",
    "    for j in range(3):\n",
    "      if grid[i][j] == 0:\n",
    "        return False\n",
    "  return True"
   ]
  },
  {
   "cell_type": "code",
   "execution_count": 5,
   "metadata": {},
   "outputs": [],
   "source": [
    "def score(grid):\n",
    "  res = 0\n",
    "  for row in grid:\n",
    "    if abs(sum(row)) == 3:\n",
    "      res = sum(row) / 3\n",
    "  for col in zip(*grid):\n",
    "    if abs(sum(col)) == 3:\n",
    "      res = sum(col) / 3\n",
    "\n",
    "    dia1 = [[0, 0], [1, 1], [2, 2]]\n",
    "    dia2 = [[0, 2], [1, 1], [2, 0]]\n",
    "    s1 = 0\n",
    "    s2 = 0\n",
    "    for i in range(3):\n",
    "      s1 += grid[dia1[i][0]][dia1[i][1]]\n",
    "      s2 += grid[dia2[i][0]][dia2[i][1]]\n",
    "\n",
    "    if abs(s1) == 3:\n",
    "      res = s1 / 3\n",
    "\n",
    "    if abs(s2) == 3:\n",
    "      res = s2 / 3\n",
    "  return res"
   ]
  },
  {
   "cell_type": "code",
   "execution_count": 9,
   "metadata": {},
   "outputs": [],
   "source": [
    "def possible_moves(grid):\n",
    "  possib_moves = []\n",
    "  for i in range(3):\n",
    "    for j in range(3):\n",
    "      if grid[i][j] == 0:\n",
    "        possib_moves.append((i, j))\n",
    "  return possib_moves"
   ]
  },
  {
   "cell_type": "code",
   "execution_count": 11,
   "metadata": {},
   "outputs": [],
   "source": [
    "def min_max(grid):\n",
    "  if is_leaf_node(grid):\n",
    "    return score(grid)\n",
    "  for move in possible_moves(grid):\n",
    "    print(move)"
   ]
  },
  {
   "cell_type": "code",
   "execution_count": 13,
   "metadata": {},
   "outputs": [
    {
     "name": "stdout",
     "output_type": "stream",
     "text": [
      "(0, 1)\n",
      "(0, 2)\n",
      "(1, 0)\n",
      "(1, 2)\n",
      "(2, 0)\n",
      "(2, 1)\n"
     ]
    }
   ],
   "source": [
    "min_max([[0, 0, 0], [0, 1, 0], [0, 0, 0]])"
   ]
  },
  {
   "cell_type": "code",
   "execution_count": null,
   "metadata": {},
   "outputs": [],
   "source": []
  }
 ],
 "metadata": {
  "kernelspec": {
   "display_name": "Python 3",
   "language": "python",
   "name": "python3"
  },
  "language_info": {
   "codemirror_mode": {
    "name": "ipython",
    "version": 3
   },
   "file_extension": ".py",
   "mimetype": "text/x-python",
   "name": "python",
   "nbconvert_exporter": "python",
   "pygments_lexer": "ipython3",
   "version": "3.9.6"
  }
 },
 "nbformat": 4,
 "nbformat_minor": 2
}
