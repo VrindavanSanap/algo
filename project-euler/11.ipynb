{
 "cells": [
  {
   "cell_type": "code",
   "execution_count": 8,
   "metadata": {},
   "outputs": [],
   "source": [
    "import numpy as np\n",
    "import matplotlib.pyplot as plt"
   ]
  },
  {
   "cell_type": "code",
   "execution_count": 13,
   "metadata": {},
   "outputs": [
    {
     "name": "stdout",
     "output_type": "stream",
     "text": [
      "20\n"
     ]
    },
    {
     "data": {
      "text/plain": [
       "(20, 20)"
      ]
     },
     "execution_count": 13,
     "metadata": {},
     "output_type": "execute_result"
    }
   ],
   "source": [
    "a = \"\"\"08 02 22 97 38 15 00 40 00 75 04 05 07 78 52 12 50 77 91 08\n",
    "49 49 99 40 17 81 18 57 60 87 17 40 98 43 69 48 04 56 62 00\n",
    "81 49 31 73 55 79 14 29 93 71 40 67 53 88 30 03 49 13 36 65\n",
    "52 70 95 23 04 60 11 42 69 24 68 56 01 32 56 71 37 02 36 91\n",
    "22 31 16 71 51 67 63 89 41 92 36 54 22 40 40 28 66 33 13 80\n",
    "24 47 32 60 99 03 45 02 44 75 33 53 78 36 84 20 35 17 12 50\n",
    "32 98 81 28 64 23 67 10 26 38 40 67 59 54 70 66 18 38 64 70\n",
    "67 26 20 68 02 62 12 20 95 63 94 39 63 08 40 91 66 49 94 21\n",
    "24 55 58 05 66 73 99 26 97 17 78 78 96 83 14 88 34 89 63 72\n",
    "21 36 23 09 75 00 76 44 20 45 35 14 00 61 33 97 34 31 33 95\n",
    "78 17 53 28 22 75 31 67 15 94 03 80 04 62 16 14 09 53 56 92\n",
    "16 39 05 42 96 35 31 47 55 58 88 24 00 17 54 24 36 29 85 57\n",
    "86 56 00 48 35 71 89 07 05 44 44 37 44 60 21 58 51 54 17 58\n",
    "19 80 81 68 05 94 47 69 28 73 92 13 86 52 17 77 04 89 55 40\n",
    "04 52 08 83 97 35 99 16 07 97 57 32 16 26 26 79 33 27 98 66\n",
    "88 36 68 87 57 62 20 72 03 46 33 67 46 55 12 32 63 93 53 69\n",
    "04 42 16 73 38 25 39 11 24 94 72 18 08 46 29 32 40 62 76 36\n",
    "20 69 36 41 72 30 23 88 34 62 99 69 82 67 59 85 74 04 36 16\n",
    "20 73 35 29 78 31 90 01 74 31 49 71 48 86 81 16 23 57 05 54\n",
    "01 70 54 71 83 51 54 69 16 92 33 48 61 43 52 01 89 19 67 48\"\"\"\n",
    "b = a.split(\"\\n\")\n",
    "print(len(b))\n",
    "c = []\n",
    "for i in b:\n",
    "    c.append([int(j) for j in i.split(\" \")])\n",
    "\n",
    "\n",
    "d1 = np.array(c)\n",
    "d1.shape"
   ]
  },
  {
   "cell_type": "code",
   "execution_count": 14,
   "metadata": {},
   "outputs": [
    {
     "data": {
      "text/plain": [
       "<matplotlib.image.AxesImage at 0x12ee583d0>"
      ]
     },
     "execution_count": 14,
     "metadata": {},
     "output_type": "execute_result"
    },
    {
     "data": {
      "image/png": "[encoded data removed]",
      "text/plain": [
       "<Figure size 640x480 with 1 Axes>"
      ]
     },
     "metadata": {},
     "output_type": "display_data"
    }
   ],
   "source": [
    "plt.imshow(d1)"
   ]
  },
  {
   "cell_type": "code",
   "execution_count": 19,
   "metadata": {},
   "outputs": [
    {
     "data": {
      "text/plain": [
       "array([[ 8,  0, 65, 91, 80, 50, 70, 21, 72, 95, 92, 57, 58, 40, 66, 69,\n",
       "        36, 16, 54, 48],\n",
       "       [91, 62, 36, 36, 13, 12, 64, 94, 63, 33, 56, 85, 17, 55, 98, 53,\n",
       "        76, 36,  5, 67],\n",
       "       [77, 56, 13,  2, 33, 17, 38, 49, 89, 31, 53, 29, 54, 89, 27, 93,\n",
       "        62,  4, 57, 19],\n",
       "       [50,  4, 49, 37, 66, 35, 18, 66, 34, 34,  9, 36, 51,  4, 33, 63,\n",
       "        40, 74, 23, 89],\n",
       "       [12, 48,  3, 71, 28, 20, 66, 91, 88, 97, 14, 24, 58, 77, 79, 32,\n",
       "        32, 85, 16,  1],\n",
       "       [52, 69, 30, 56, 40, 84, 70, 40, 14, 33, 16, 54, 21, 17, 26, 12,\n",
       "        29, 59, 81, 52],\n",
       "       [78, 43, 88, 32, 40, 36, 54,  8, 83, 61, 62, 17, 60, 52, 26, 55,\n",
       "        46, 67, 86, 43],\n",
       "       [ 7, 98, 53,  1, 22, 78, 59, 63, 96,  0,  4,  0, 44, 86, 16, 46,\n",
       "         8, 82, 48, 61],\n",
       "       [ 5, 40, 67, 56, 54, 53, 67, 39, 78, 14, 80, 24, 37, 13, 32, 67,\n",
       "        18, 69, 71, 48],\n",
       "       [ 4, 17, 40, 68, 36, 33, 40, 94, 78, 35,  3, 88, 44, 92, 57, 33,\n",
       "        72, 99, 49, 33],\n",
       "       [75, 87, 71, 24, 92, 75, 38, 63, 17, 45, 94, 58, 44, 73, 97, 46,\n",
       "        94, 62, 31, 92],\n",
       "       [ 0, 60, 93, 69, 41, 44, 26, 95, 97, 20, 15, 55,  5, 28,  7,  3,\n",
       "        24, 34, 74, 16],\n",
       "       [40, 57, 29, 42, 89,  2, 10, 20, 26, 44, 67, 47,  7, 69, 16, 72,\n",
       "        11, 88,  1, 69],\n",
       "       [ 0, 18, 14, 11, 63, 45, 67, 12, 99, 76, 31, 31, 89, 47, 99, 20,\n",
       "        39, 23, 90, 54],\n",
       "       [15, 81, 79, 60, 67,  3, 23, 62, 73,  0, 75, 35, 71, 94, 35, 62,\n",
       "        25, 30, 31, 51],\n",
       "       [38, 17, 55,  4, 51, 99, 64,  2, 66, 75, 22, 96, 35,  5, 97, 57,\n",
       "        38, 72, 78, 83],\n",
       "       [97, 40, 73, 23, 71, 60, 28, 68,  5,  9, 28, 42, 48, 68, 83, 87,\n",
       "        73, 41, 29, 71],\n",
       "       [22, 99, 31, 95, 16, 32, 81, 20, 58, 23, 53,  5,  0, 81,  8, 68,\n",
       "        16, 36, 35, 54],\n",
       "       [ 2, 49, 49, 70, 31, 47, 98, 26, 55, 36, 17, 39, 56, 80, 52, 36,\n",
       "        42, 69, 73, 70],\n",
       "       [ 8, 49, 81, 52, 22, 24, 32, 67, 24, 21, 78, 16, 86, 19,  4, 88,\n",
       "         4, 20, 20,  1]])"
      ]
     },
     "execution_count": 19,
     "metadata": {},
     "output_type": "execute_result"
    }
   ],
   "source": [
    "\n",
    "\n",
    "d2 = rotate(d1, angle=90)\n",
    "d2"
   ]
  },
  {
   "cell_type": "code",
   "execution_count": null,
   "metadata": {},
   "outputs": [],
   "source": []
  }
 ],
 "metadata": {
  "kernelspec": {
   "display_name": "Python 3",
   "language": "python",
   "name": "python3"
  },
  "language_info": {
   "codemirror_mode": {
    "name": "ipython",
    "version": 3
   },
   "file_extension": ".py",
   "mimetype": "text/x-python",
   "name": "python",
   "nbconvert_exporter": "python",
   "pygments_lexer": "ipython3",
   "version": "3.9.6"
  },
  "orig_nbformat": 4
 },
 "nbformat": 4,
 "nbformat_minor": 2
}
