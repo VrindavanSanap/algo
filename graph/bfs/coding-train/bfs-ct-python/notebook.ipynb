{
 "cells": [
  {
   "cell_type": "code",
   "execution_count": 4,
   "metadata": {},
   "outputs": [],
   "source": [
    "import json"
   ]
  },
  {
   "cell_type": "code",
   "execution_count": 5,
   "metadata": {},
   "outputs": [],
   "source": [
    "class Node:\n",
    "    def __init__(self, value):\n",
    "        self.value = value\n",
    "        self.edges = []\n",
    "        self._searched = False \n",
    "        self.parent = None \n",
    "\n",
    "    def add_edge(self, other):\n",
    "        self.edges.append(other)\n",
    "        other.edges.append(self)"
   ]
  },
  {
   "cell_type": "code",
   "execution_count": 6,
   "metadata": {},
   "outputs": [],
   "source": [
    "class Graph:\n",
    "    def __init__(self):\n",
    "        self.nodes = []\n",
    "        self.graph = {}\n",
    "        self.end = None\n",
    "        self.start = None\n",
    "    def add_node(self, n):\n",
    "        self.nodes.append(n)\n",
    "        title  = n.value\n",
    "        self.graph[title] = n\n",
    "    \n",
    "    def get_node(self, actor):\n",
    "        if actor in self.graph:\n",
    "            return self.graph[actor]\n",
    "        return None\n",
    "\n",
    "    def set_start(self, actor):\n",
    "        self.start = self.graph[actor]\n",
    "        return self.start\n",
    "\n",
    "    def set_end(self, actor):\n",
    "        self.end= self.graph[actor]\n",
    "        return self.end \n",
    "\n",
    "    def reset(self):\n",
    "        for node in self.nodes:\n",
    "            node._searched = False\n",
    "            node.parent = None"
   ]
  },
  {
   "cell_type": "code",
   "execution_count": 7,
   "metadata": {},
   "outputs": [],
   "source": [
    "with open(\"kevinbacon.json\") as fp:\n",
    "    feed = json.load(fp)"
   ]
  },
  {
   "cell_type": "code",
   "execution_count": 8,
   "metadata": {},
   "outputs": [],
   "source": [
    "graph = Graph()\n",
    "movies = feed[\"movies\"]\n",
    "for movie in movies:\n",
    "    movie_title = movie[\"title\"]\n",
    "    cast = movie[\"cast\"]\n",
    "    movie_node = Node(movie_title) \n",
    "    graph.add_node(movie_node)\n",
    "    for actor in cast:\n",
    "        actor_node = graph.get_node(actor)\n",
    "        if actor_node == None:\n",
    "            actor_node = Node(actor)\n",
    "        graph.add_node(actor_node)\n",
    "        movie_node.add_edge(actor_node)\n",
    "        "
   ]
  },
  {
   "cell_type": "code",
   "execution_count": 9,
   "metadata": {},
   "outputs": [],
   "source": [
    "from collections import deque"
   ]
  },
  {
   "cell_type": "code",
   "execution_count": 42,
   "metadata": {},
   "outputs": [
    {
     "name": "stdout",
     "output_type": "stream",
     "text": [
      "Found! Kevin Bacon\n",
      "Mike O 'Malley -> Eat Pray Love -> Julia Roberts -> Flatliners -> Kevin Bacon\n"
     ]
    }
   ],
   "source": [
    "def bfs(graph, start=\"Daniel Stern\", end = \"Kevin Bacon\"):\n",
    "        \n",
    "    graph.reset()\n",
    "    start = graph.set_start(start)\n",
    "    start._searched = True\n",
    "    end = graph.set_end(\"Kevin Bacon\")\n",
    "    queue = deque()\n",
    "    queue.append(start)\n",
    "    while len(queue):\n",
    "        curr = queue.popleft()\n",
    "        if curr == end:\n",
    "            print(f\"Found! {curr.value}\")\n",
    "            break\n",
    "        for edge in curr.edges:\n",
    "            if not edge._searched:\n",
    "                edge._searched = True\n",
    "                edge.parent = curr\n",
    "                queue.append(edge)\n",
    "    path = [end.value]\n",
    "    nxt = end\n",
    "    while (nxt.parent):\n",
    "        nxt = nxt.parent\n",
    "        path.append(nxt.value)\n",
    "    print(\" -> \".join(reversed(path)))\n",
    "bfs(graph, \"Mike O 'Malley\")"
   ]
  },
  {
   "cell_type": "code",
   "execution_count": 23,
   "metadata": {},
   "outputs": [],
   "source": [
    "while(None):\n",
    "    print(\"\")"
   ]
  },
  {
   "cell_type": "code",
   "execution_count": null,
   "metadata": {},
   "outputs": [
    {
     "name": "stdout",
     "output_type": "stream",
     "text": [
      "[]\n"
     ]
    }
   ],
   "source": []
  }
 ],
 "metadata": {
  "kernelspec": {
   "display_name": "Python 3",
   "language": "python",
   "name": "python3"
  },
  "language_info": {
   "codemirror_mode": {
    "name": "ipython",
    "version": 3
   },
   "file_extension": ".py",
   "mimetype": "text/x-python",
   "name": "python",
   "nbconvert_exporter": "python",
   "pygments_lexer": "ipython3",
   "version": "3.9.6"
  }
 },
 "nbformat": 4,
 "nbformat_minor": 2
}
